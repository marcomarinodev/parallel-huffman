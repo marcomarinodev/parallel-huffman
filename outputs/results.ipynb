{
 "cells": [
  {
   "cell_type": "code",
   "execution_count": 8,
   "metadata": {},
   "outputs": [
    {
     "name": "stdout",
     "output_type": "stream",
     "text": [
      "[[1.5035313593709232, 2.7292539639580786, 3.0790212753636923, 3.6410554099564862, 5.586581213316586, 5.674988235636561], [1.2986603199693711, 1.9562908966546744, 2.7100491054950497, 3.8641145692461225, 4.275602571719634, 4.541731722404491], [1.2965671653137667, 2.064947433756705, 2.7967230153371276, 3.6166175821215, 3.999955507959419, 4.649314897153393]]\n"
     ]
    }
   ],
   "source": [
    "import matplotlib.pyplot as plt\n",
    "import csv\n",
    "\n",
    "def get_csv(filename):\n",
    "    csv_content = []\n",
    "    with open(filename, newline='') as csvfile:\n",
    "        reader = csv.reader(csvfile)\n",
    "        for row in reader:\n",
    "            csv_content.append(row)\n",
    "    return csv_content\n",
    "\n",
    "seq_execution_times = get_csv(\"./sq_results.csv\")\n",
    "nt_execution_times = get_csv(\"./nt_results.csv\")\n",
    "ff_execution_times = get_csv(\"./ff_results.csv\")\n",
    "\n",
    "speedups = [[], [], []]\n",
    "\n",
    "for nt_time in nt_execution_times:\n",
    "    if (nt_time[0] == 's'):\n",
    "        speedups[0][0].append(float(seq_execution_times[0][2]) / float(nt_time[2]))\n",
    "    elif (nt_time[0] == 'm'):\n",
    "        speedups[1][0].append(float(seq_execution_times[1][2]) / float(nt_time[2]))\n",
    "    else:\n",
    "        speedups[2][0].append(float(seq_execution_times[2][2]) / float(nt_time[2]))\n",
    "\n",
    "for nt_time in nt_execution_times:\n",
    "    if (nt_time[0] == 's'):\n",
    "        speedups[0][1].append(float(seq_execution_times[0][2]) / float(nt_time[2]))\n",
    "    elif (nt_time[0] == 'm'):\n",
    "        speedups[1][1].append(float(seq_execution_times[1][2]) / float(nt_time[2]))\n",
    "    else:\n",
    "        speedups[2][1].append(float(seq_execution_times[2][2]) / float(nt_time[2]))\n",
    "\n",
    "for nt_time in nt_execution_times:\n",
    "    if (nt_time[0] == 's'):\n",
    "        speedups[0][2].append(float(seq_execution_times[0][2]) / float(nt_time[2]))\n",
    "    elif (nt_time[0] == 'm'):\n",
    "        speedups[1][2].append(float(seq_execution_times[1][2]) / float(nt_time[2]))\n",
    "    else:\n",
    "        speedups[2][2].append(float(seq_execution_times[2][2]) / float(nt_time[2]))\n",
    "    \n",
    "print(speedups)\n",
    "\n",
    "# Set Greyscale Color Map\n",
    "greyscale = plt.get_cmap('Greys')"
   ]
  }
 ],
 "metadata": {
  "kernelspec": {
   "display_name": "Python 3",
   "language": "python",
   "name": "python3"
  },
  "language_info": {
   "codemirror_mode": {
    "name": "ipython",
    "version": 3
   },
   "file_extension": ".py",
   "mimetype": "text/x-python",
   "name": "python",
   "nbconvert_exporter": "python",
   "pygments_lexer": "ipython3",
   "version": "3.8.10"
  },
  "orig_nbformat": 4
 },
 "nbformat": 4,
 "nbformat_minor": 2
}
